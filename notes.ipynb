{
 "cells": [
  {
   "cell_type": "markdown",
   "metadata": {},
   "source": [
    "# Lesson 1: Getting data from APIs"
   ]
  },
  {
   "cell_type": "markdown",
   "metadata": {},
   "source": [
    "Build an application that predicts stock volatility\n",
    "- get stock data from API\n",
    "- create python classes to extract data from API and load it into database\n",
    "- build a GARCh time series model to predict volatility\n",
    "- build an application with its own API for getting data, training models and making predictions."
   ]
  },
  {
   "cell_type": "markdown",
   "metadata": {},
   "source": [
    "Goals:\n",
    "- export stocj data from the Alpha Vantage API using a URL\n",
    "- Extract stock data from the AlphaVantage API using an HTTP request\n",
    "- Write function for transforming stock data\n",
    "- incorporate python exceptions into our function"
   ]
  },
  {
   "cell_type": "markdown",
   "metadata": {},
   "source": [
    "Accessing APIs through URL\n",
    "- Identify components of a URL\n",
    "- Add API key to a config module\n",
    "- Incorporate AlphaVantage parameters into URL\n",
    "Accessing APIs throgh an HTTP request\n",
    "- Define an HTTP request\n",
    "Defensive Programming for APIs\n",
    "- Create get_daily function\n",
    "- Raise Exceptions for bad requests."
   ]
  },
  {
   "cell_type": "markdown",
   "metadata": {},
   "source": [
    "It's best to store time series data in descending order for storage, with the most recent date at the top. It is advantageous when retrieving data from an application database. Ascending order for model training for time series data since the earliest date is meant to come first."
   ]
  },
  {
   "cell_type": "markdown",
   "metadata": {},
   "source": [
    "In this project, errors that could disrupt the code are\n",
    "- putting in a bad API path\n",
    "- putting in an invalid ticker symbol"
   ]
  },
  {
   "cell_type": "markdown",
   "metadata": {},
   "source": [
    "it's best to  program defensively or implement error-handling in code. to accomplish this, try an anticipate errors that could occur. also, try to inform the user of the error in case the exception is triggered."
   ]
  },
  {
   "cell_type": "markdown",
   "metadata": {},
   "source": [
    "lessons learnt:\n",
    "- learned how to extract data from the Alpha Vantage A|PI using a URL\n",
    "    - learned about important components of the URL like hostname (base URL), path (particular action you want to do when you hit that URL), parameters (arguments passed into the URL)\n",
    "- learned about API keys\n",
    "    - DO NOT put them in your code.\n",
    "    - use a .env file to store the API key as an environment variable\n",
    "- Extracted data from the AlphaVantage API programmatically using a HTTP request.\n",
    "    - used request library to make request and get a response.\n",
    "- Figured out how to take the JSON and turn it into a datframe\n",
    "- Cleaned eveything up by putting it all in a functionthat takes input from a user \n",
    "- Raise exceptions when we anticipate possible user errors\n"
   ]
  },
  {
   "cell_type": "markdown",
   "metadata": {},
   "source": []
  },
  {
   "cell_type": "markdown",
   "metadata": {},
   "source": []
  },
  {
   "cell_type": "markdown",
   "metadata": {},
   "source": []
  },
  {
   "cell_type": "markdown",
   "metadata": {},
   "source": []
  },
  {
   "cell_type": "markdown",
   "metadata": {},
   "source": []
  },
  {
   "cell_type": "markdown",
   "metadata": {},
   "source": []
  },
  {
   "cell_type": "markdown",
   "metadata": {},
   "source": []
  },
  {
   "cell_type": "markdown",
   "metadata": {},
   "source": []
  },
  {
   "cell_type": "markdown",
   "metadata": {},
   "source": []
  },
  {
   "cell_type": "markdown",
   "metadata": {},
   "source": []
  },
  {
   "cell_type": "markdown",
   "metadata": {},
   "source": []
  },
  {
   "cell_type": "markdown",
   "metadata": {},
   "source": []
  },
  {
   "cell_type": "markdown",
   "metadata": {},
   "source": []
  },
  {
   "cell_type": "markdown",
   "metadata": {},
   "source": []
  },
  {
   "cell_type": "markdown",
   "metadata": {},
   "source": []
  },
  {
   "cell_type": "markdown",
   "metadata": {},
   "source": []
  },
  {
   "cell_type": "markdown",
   "metadata": {},
   "source": []
  },
  {
   "cell_type": "markdown",
   "metadata": {},
   "source": []
  },
  {
   "cell_type": "markdown",
   "metadata": {},
   "source": []
  },
  {
   "cell_type": "markdown",
   "metadata": {},
   "source": []
  },
  {
   "cell_type": "markdown",
   "metadata": {},
   "source": []
  },
  {
   "cell_type": "markdown",
   "metadata": {},
   "source": []
  },
  {
   "cell_type": "markdown",
   "metadata": {},
   "source": []
  },
  {
   "cell_type": "markdown",
   "metadata": {},
   "source": []
  },
  {
   "cell_type": "markdown",
   "metadata": {},
   "source": []
  },
  {
   "cell_type": "markdown",
   "metadata": {},
   "source": []
  },
  {
   "cell_type": "markdown",
   "metadata": {},
   "source": []
  }
 ],
 "metadata": {
  "language_info": {
   "name": "python"
  }
 },
 "nbformat": 4,
 "nbformat_minor": 2
}
